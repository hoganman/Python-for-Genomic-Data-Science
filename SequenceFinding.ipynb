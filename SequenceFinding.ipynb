{
 "cells": [
  {
   "cell_type": "markdown",
   "source": [
    "This notebook is part of the final examination of the **Python for Genomic Data Science** course on Coursera\n",
    "\n",
    "The goal is to read in a multi-`FASTA` file and find reading frames and repeating subsequences. The assignment is simplified by the fact that no gaps occur in the data. Also, we are concerned with the forward (5') direction only.\n",
    "\n",
    "The tools and algorithms in this notebook are built upon Biopython."
   ],
   "metadata": {
    "collapsed": false
   }
  },
  {
   "cell_type": "code",
   "execution_count": 43,
   "outputs": [],
   "source": [
    "import os\n",
    "from pathlib import Path\n",
    "\n",
    "import numpy as np\n",
    "\n",
    "# This is a header module with methods designed to operate on strings and Bio.SeqIO.SeqRecord\n",
    "import utils\n",
    "# This is a specialized UserList class that holds the SeqRecords.\n",
    "from sequencerecords import SequenceRecordList"
   ],
   "metadata": {
    "collapsed": false
   }
  },
  {
   "cell_type": "markdown",
   "source": [
    "# Read the Data"
   ],
   "metadata": {
    "collapsed": false
   }
  },
  {
   "cell_type": "code",
   "execution_count": 44,
   "outputs": [],
   "source": [
    "input_file = Path(\"dna2.fasta\")\n",
    "assert input_file.exists()\n",
    "\n",
    "# The list of SeqRecords is sorted from shortest to longest sequence length\n",
    "sequences = SequenceRecordList.read_file(os.fspath(input_file), \"fasta\")"
   ],
   "metadata": {
    "collapsed": false
   }
  },
  {
   "cell_type": "code",
   "execution_count": 45,
   "outputs": [
    {
     "name": "stdout",
     "output_type": "stream",
     "text": [
      "There are 18 sequences in the file. The shortest is gi|142022655|gb|EQ086233.1|346 with 115 characters and the longest is gi|142022655|gb|EQ086233.1|255 with 4894 characters\n"
     ]
    }
   ],
   "source": [
    "print(\n",
    "    f\"There are {len(sequences)} sequences in the file. The shortest is {sequences[0].id}\"\n",
    "    f\" with {len(sequences[0].seq)} characters and the longest is {sequences[-1].id} with\"\n",
    "    f\" {len(sequences[-1].seq)} characters\"\n",
    ")"
   ],
   "metadata": {
    "collapsed": false
   }
  },
  {
   "cell_type": "markdown",
   "source": [
    "# Question\n",
    "*How many records are in the multi-FASTA file?*\n",
    "\n",
    "The answer is **18**\n",
    "\n",
    "# Question\n",
    "*What is the length of the longest sequence in the file?*\n",
    "\n",
    "The answer is **4894**\n",
    "\n",
    "# Question\n",
    "*What is the length of the shortest sequence in the file?*\n",
    "\n",
    "The answer is **115**"
   ],
   "metadata": {
    "collapsed": false
   }
  },
  {
   "cell_type": "markdown",
   "source": [
    "# Question:\n",
    "\n",
    "*What is the length of the longest ORF appearing in reading frame 2 of any of the sequences?*\n",
    "\n",
    "## Step A. Finding the Open Reading Frames (ORFs)"
   ],
   "metadata": {
    "collapsed": false
   }
  },
  {
   "cell_type": "code",
   "execution_count": 46,
   "outputs": [],
   "source": [
    "sequences_rf_tables = {\n",
    "    seq_rec.id : utils.get_forward_rf_tables(seq_rec)\n",
    "    for seq_rec in sequences\n",
    "}"
   ],
   "metadata": {
    "collapsed": false
   }
  },
  {
   "cell_type": "code",
   "execution_count": 5,
   "outputs": [
    {
     "name": "stdout",
     "output_type": "stream",
     "text": [
      "*******************************************\n",
      "Sequence ID: gi|142022655|gb|EQ086233.1|346\n",
      "*******************************************\n",
      "GCGGTCCCGGCGCCGCAGGCCGTCCGGCTCCTGCAGCGCGCCGAACCGGGTCTCGCGGTGATTGCCCAGCGTACCGAGATGCGCCCGGCCTGGGCCGTGATGGCGCAGTGCGGCC\n",
      "*******************************************\n",
      "Table 1: [0, 3, 6, 9, 12, 15, 18, 21, 24, 27, 30, 33, 36, 39, 42, 45, 48, 51, 54, 57, 60, 63, 66, 69, 72, 75, 78, 81, 84, 87, 90, 93, 96, 99, 102, 105, 108, 111, 114, 115]\n",
      "Table 2: [0, 1, 4, 7, 10, 13, 16, 19, 22, 25, 28, 31, 34, 37, 40, 43, 46, 49, 52, 55, 58, 61, 64, 67, 70, 73, 76, 79, 82, 85, 88, 91, 94, 97, 100, 103, 106, 109, 112, 115]\n",
      "Table 3: [0, 2, 5, 8, 11, 14, 17, 20, 23, 26, 29, 32, 35, 38, 41, 44, 47, 50, 53, 56, 59, 62, 65, 68, 71, 74, 77, 80, 83, 86, 89, 92, 95, 98, 101, 104, 107, 110, 113, 115]\n"
     ]
    }
   ],
   "source": [
    "# Let's verify one of the RF tables. **NOTE** These are NOT the ORF\n",
    "header = f\"Sequence ID: {sequences[0].id}\"\n",
    "seperator = \"*\" * len(header)\n",
    "\n",
    "print(seperator)\n",
    "print(header)\n",
    "print(seperator)\n",
    "print(str(sequences[0].seq))\n",
    "print(seperator)\n",
    "for rf_table_id, rf_table in sequences_rf_tables[sequences[0].id].items():\n",
    "    print(f\"Table {rf_table_id}: {str(rf_table)}\")\n"
   ],
   "metadata": {
    "collapsed": false
   }
  },
  {
   "cell_type": "markdown",
   "source": [
    "## Step B. Get all ORFs"
   ],
   "metadata": {
    "collapsed": false
   }
  },
  {
   "cell_type": "code",
   "execution_count": 6,
   "outputs": [],
   "source": [
    "sequences_orfs = {\n",
    "    seq_rec.id : utils.get_all_forward_orf(seq_rec, sequences_rf_tables[seq_rec.id])\n",
    "    for seq_rec in sequences\n",
    "}"
   ],
   "metadata": {
    "collapsed": false
   }
  },
  {
   "cell_type": "code",
   "execution_count": 9,
   "outputs": [
    {
     "data": {
      "text/plain": "{1: [], 2: [], 3: []}"
     },
     "execution_count": 9,
     "metadata": {},
     "output_type": "execute_result"
    }
   ],
   "source": [
    "# Lets verify forward ORFs\n",
    "print(sequences_orfs[sequences[0].id])"
   ],
   "metadata": {
    "collapsed": false
   }
  },
  {
   "cell_type": "code",
   "execution_count": 12,
   "outputs": [
    {
     "name": "stdout",
     "output_type": "stream",
     "text": [
      "{1: [], 2: [(274, 430), (349, 430), (379, 430)], 3: [(89, 278), (311, 353)]}\n",
      "ID: gi|142022655|gb|EQ086233.1|322\n",
      "Name: gi|142022655|gb|EQ086233.1|322\n",
      "Description: gi|142022655|gb|EQ086233.1|322 marine metagenome JCVI_SCAF_1096627390048 genomic scaffold, whole genome shotgun sequence\n",
      "Number of features: 0\n",
      "Seq('ATGACCGCGCAACGGGCGAGCGAGCGGCAGTACCTGAATGCGGAGCTCGATTCG...TGA')\n"
     ]
    }
   ],
   "source": [
    "# Turns out the shortest sequence doesn't have any ORFs. What about the next one?\n",
    "print(sequences_orfs[sequences[1].id])\n",
    "\n",
    "print(sequences[1][274: 430])"
   ],
   "metadata": {
    "collapsed": false
   }
  },
  {
   "cell_type": "markdown",
   "source": [
    "Success! The first codon is a START and last is a STOP"
   ],
   "metadata": {
    "collapsed": false
   }
  },
  {
   "cell_type": "code",
   "execution_count": 18,
   "outputs": [
    {
     "name": "stdout",
     "output_type": "stream",
     "text": [
      "All ORFs in RF 2\n",
      "{'gi|142022655|gb|EQ086233.1|346': 0, 'gi|142022655|gb|EQ086233.1|322': 156, 'gi|142022655|gb|EQ086233.1|88': 138, 'gi|142022655|gb|EQ086233.1|584': 27, 'gi|142022655|gb|EQ086233.1|594': 33, 'gi|142022655|gb|EQ086233.1|304': 0, 'gi|142022655|gb|EQ086233.1|75': 504, 'gi|142022655|gb|EQ086233.1|277': 279, 'gi|142022655|gb|EQ086233.1|4': 126, 'gi|142022655|gb|EQ086233.1|527': 570, 'gi|142022655|gb|EQ086233.1|250': 552, 'gi|142022655|gb|EQ086233.1|45': 528, 'gi|142022655|gb|EQ086233.1|396': 1281, 'gi|142022655|gb|EQ086233.1|293': 420, 'gi|142022655|gb|EQ086233.1|454': 822, 'gi|142022655|gb|EQ086233.1|91': 237, 'gi|142022655|gb|EQ086233.1|16': 1458, 'gi|142022655|gb|EQ086233.1|255': 1185}\n",
      "The longest ORF in RF 2 is 1458\n"
     ]
    }
   ],
   "source": [
    "target_rf = 2\n",
    "longest_orf_sequences = dict.fromkeys(sequences_orfs.keys(), 0)\n",
    "for seq_rec_id, forward_orf_tables in sequences_orfs.items():\n",
    "    forward_orf_table = forward_orf_tables[target_rf]\n",
    "    sub_seq_lengths_pairs = [\n",
    "        np.diff(index_pair)[0]\n",
    "        for index_pair in forward_orf_table\n",
    "    ]\n",
    "    if len(sub_seq_lengths_pairs) > 0:\n",
    "        longest_orf_sequences[seq_rec_id] = np.max(sub_seq_lengths_pairs)\n",
    "\n",
    "print(f\"All ORFs in RF {target_rf}\")\n",
    "print(longest_orf_sequences)\n",
    "\n",
    "print(f\"The longest ORF in RF {target_rf} is {np.max(list(longest_orf_sequences.values()))}\")"
   ],
   "metadata": {
    "collapsed": false
   }
  },
  {
   "cell_type": "markdown",
   "source": [
    "The answer is **1458**"
   ],
   "metadata": {
    "collapsed": false
   }
  },
  {
   "cell_type": "markdown",
   "source": [
    "# Question:\n",
    "\n",
    "*What is the starting position of the longest ORF in reading frame 3 in any of the sequences? The position should indicate the character number where the ORF begins. For instance, the following ORF:*\n",
    "```text\n",
    "> sequence1\n",
    "ATGCCCTAG\n",
    "```\n",
    "*starts at position 1.*\n",
    "\n",
    "Fortunately, I can reuse some machinery from the previous question to help with this one"
   ],
   "metadata": {
    "collapsed": false
   }
  },
  {
   "cell_type": "code",
   "execution_count": 29,
   "outputs": [
    {
     "name": "stdout",
     "output_type": "stream",
     "text": [
      "All ORFs in RF 3\n",
      "{'gi|142022655|gb|EQ086233.1|346': (0, -1), 'gi|142022655|gb|EQ086233.1|322': (90, 279), 'gi|142022655|gb|EQ086233.1|88': (0, -1), 'gi|142022655|gb|EQ086233.1|584': (348, 480), 'gi|142022655|gb|EQ086233.1|594': (66, 279), 'gi|142022655|gb|EQ086233.1|304': (621, 768), 'gi|142022655|gb|EQ086233.1|75': (57, 261), 'gi|142022655|gb|EQ086233.1|277': (759, 930), 'gi|142022655|gb|EQ086233.1|4': (1278, 1497), 'gi|142022655|gb|EQ086233.1|527': (636, 2457), 'gi|142022655|gb|EQ086233.1|250': (1374, 1623), 'gi|142022655|gb|EQ086233.1|45': (699, 1023), 'gi|142022655|gb|EQ086233.1|396': (429, 654), 'gi|142022655|gb|EQ086233.1|293': (2334, 3045), 'gi|142022655|gb|EQ086233.1|454': (3096, 4497), 'gi|142022655|gb|EQ086233.1|91': (2856, 3444), 'gi|142022655|gb|EQ086233.1|16': (1440, 3084), 'gi|142022655|gb|EQ086233.1|255': (1641, 1926)}\n",
      "The longest ORF in RF 3 is ('gi|142022655|gb|EQ086233.1|527', (636, 2457)) of length 1821\n"
     ]
    }
   ],
   "source": [
    "target_rf = 3\n",
    "longest_orf_positions = dict.fromkeys(sequences_orfs.keys(), (0, -1))\n",
    "for seq_rec_id, forward_orf_tables in sequences_orfs.items():\n",
    "    forward_orf_table = forward_orf_tables[target_rf]\n",
    "    sub_seq_lengths = [\n",
    "        np.diff(index_pair)[0]\n",
    "        for index_pair in forward_orf_table\n",
    "    ]\n",
    "    if len(sub_seq_lengths) > 0:\n",
    "        longest_orf_argmax = np.argmax(sub_seq_lengths)\n",
    "        index_pair = forward_orf_table[longest_orf_argmax]\n",
    "        position_pair = utils.convert_index_pair_to_position_pair(index_pair)\n",
    "        longest_orf_positions[seq_rec_id] = position_pair\n",
    "\n",
    "print(f\"All ORFs in RF {target_rf}\")\n",
    "print(longest_orf_positions)\n",
    "\n",
    "longest_orf_by_length = sorted(\n",
    "    list(longest_orf_positions.items()),\n",
    "    key=lambda ident_position_pair: np.diff(ident_position_pair[1])[0],\n",
    "    reverse=True\n",
    ")\n",
    "print(f\"The longest ORF in RF {target_rf} is {longest_orf_by_length[0]} of length {np.diff(longest_orf_by_length[0][1])[0]}\")"
   ],
   "metadata": {
    "collapsed": false
   }
  },
  {
   "cell_type": "markdown",
   "source": [
    "The answer is position **636**"
   ],
   "metadata": {
    "collapsed": false
   }
  },
  {
   "cell_type": "markdown",
   "source": [
    "# Question\n",
    "*What is the length of the longest ORF appearing in any sequence and in any forward reading frame?*\n",
    "\n",
    "Since we have already answered for RF 2 and RF 3, let's also do RF 1"
   ],
   "metadata": {
    "collapsed": false
   }
  },
  {
   "cell_type": "code",
   "execution_count": 30,
   "outputs": [
    {
     "name": "stdout",
     "output_type": "stream",
     "text": [
      "All ORFs in RF 1\n",
      "{'gi|142022655|gb|EQ086233.1|346': 0, 'gi|142022655|gb|EQ086233.1|322': 0, 'gi|142022655|gb|EQ086233.1|88': 120, 'gi|142022655|gb|EQ086233.1|584': 90, 'gi|142022655|gb|EQ086233.1|594': 42, 'gi|142022655|gb|EQ086233.1|304': 105, 'gi|142022655|gb|EQ086233.1|75': 180, 'gi|142022655|gb|EQ086233.1|277': 204, 'gi|142022655|gb|EQ086233.1|4': 249, 'gi|142022655|gb|EQ086233.1|527': 195, 'gi|142022655|gb|EQ086233.1|250': 1560, 'gi|142022655|gb|EQ086233.1|45': 2394, 'gi|142022655|gb|EQ086233.1|396': 1059, 'gi|142022655|gb|EQ086233.1|293': 312, 'gi|142022655|gb|EQ086233.1|454': 1044, 'gi|142022655|gb|EQ086233.1|91': 1296, 'gi|142022655|gb|EQ086233.1|16': 1509, 'gi|142022655|gb|EQ086233.1|255': 1443}\n",
      "The longest ORF in RF 1 is 2394\n"
     ]
    }
   ],
   "source": [
    "target_rf = 1\n",
    "longest_orf_sequences = dict.fromkeys(sequences_orfs.keys(), 0)\n",
    "for seq_rec_id, forward_orf_tables in sequences_orfs.items():\n",
    "    forward_orf_table = forward_orf_tables[target_rf]\n",
    "    sub_seq_lengths_pairs = [\n",
    "        np.diff(index_pair)[0]\n",
    "        for index_pair in forward_orf_table\n",
    "    ]\n",
    "    if len(sub_seq_lengths_pairs) > 0:\n",
    "        longest_orf_sequences[seq_rec_id] = np.max(sub_seq_lengths_pairs)\n",
    "\n",
    "print(f\"All ORFs in RF {target_rf}\")\n",
    "print(longest_orf_sequences)\n",
    "\n",
    "print(f\"The longest ORF in RF {target_rf} is {np.max(list(longest_orf_sequences.values()))}\")"
   ],
   "metadata": {
    "collapsed": false
   }
  },
  {
   "cell_type": "markdown",
   "source": [
    "So for RF 1, 2, and 3 the longest ORFs are 2394, 1458, and 1821. So RF 1 has the longest ORF.\n",
    "\n",
    "The answer is **2394**"
   ],
   "metadata": {
    "collapsed": false
   }
  },
  {
   "cell_type": "markdown",
   "source": [
    "# Question\n",
    "*What is the length of the longest forward ORF that appears in the sequence with the identifier  gi|142022655|gb|EQ086233.1|16?*"
   ],
   "metadata": {
    "collapsed": false
   }
  },
  {
   "cell_type": "markdown",
   "source": [
    "According to the blocks above\n",
    " * RF 1: 1509\n",
    " * RF 2: 1458\n",
    " * RF 3: 3084 - 1440 = 1644\n",
    "\n",
    "So the answer is **1644**"
   ],
   "metadata": {
    "collapsed": false
   }
  },
  {
   "cell_type": "markdown",
   "source": [
    "# Question\n",
    "*Find the most frequently occurring repeat of length 6 in all sequences. How many times does it occur in all?*"
   ],
   "metadata": {
    "collapsed": false
   }
  },
  {
   "cell_type": "code",
   "execution_count": 31,
   "outputs": [],
   "source": [
    "all_possible_subseq = sequences.get_all_forward_repeating_overlapping_subsequences_of_length(6)"
   ],
   "metadata": {
    "collapsed": false
   }
  },
  {
   "cell_type": "code",
   "execution_count": 34,
   "outputs": [],
   "source": [
    "subseq_count_list = sorted(\n",
    "    [\n",
    "        (key, value[\"count\"])\n",
    "        for key, value in all_possible_subseq.items()\n",
    "    ],\n",
    "    key=lambda id_count: id_count[1],\n",
    "    reverse=True\n",
    ")"
   ],
   "metadata": {
    "collapsed": false
   }
  },
  {
   "cell_type": "code",
   "execution_count": 36,
   "outputs": [
    {
     "name": "stdout",
     "output_type": "stream",
     "text": [
      "The subseq GCGCGC occurs the most with 153 occurrences\n"
     ]
    }
   ],
   "source": [
    "print(f\"The subseq {subseq_count_list[0][0]} occurs the most with {subseq_count_list[0][1]} occurrences\")"
   ],
   "metadata": {
    "collapsed": false
   }
  },
  {
   "cell_type": "markdown",
   "source": [
    "The answer is **153**"
   ],
   "metadata": {
    "collapsed": false
   }
  },
  {
   "cell_type": "markdown",
   "source": [
    "# Question\n",
    "*Find all repeats of length 12 in the input file. Let's use Max to specify the number of copies of the most frequent repeat of length 12.  How many different 12-base sequences occur Max times?*"
   ],
   "metadata": {
    "collapsed": false
   }
  },
  {
   "cell_type": "code",
   "execution_count": 37,
   "outputs": [
    {
     "name": "stdout",
     "output_type": "stream",
     "text": [
      "4\n"
     ]
    }
   ],
   "source": [
    "all_possible_subseq = sequences.get_all_forward_repeating_overlapping_subsequences_of_length(12)\n",
    "subseq_count_list = sorted(\n",
    "    [\n",
    "        (key, value[\"count\"])\n",
    "        for key, value in all_possible_subseq.items()\n",
    "    ],\n",
    "    key=lambda id_count: id_count[1],\n",
    "    reverse=True\n",
    ")"
   ],
   "metadata": {
    "collapsed": false
   }
  },
  {
   "cell_type": "code",
   "execution_count": 38,
   "outputs": [
    {
     "name": "stdout",
     "output_type": "stream",
     "text": [
      "The maximum number length 12 subsequences occurs 4 times\n"
     ]
    }
   ],
   "source": [
    "Max_counts = sum(\n",
    "    [\n",
    "        True\n",
    "        for (_, counter) in subseq_count_list\n",
    "        if counter == subseq_count_list[0][1]\n",
    "    ]\n",
    ")\n",
    "\n",
    "print(f\"The maximum number length 12 subsequences occurs {Max_counts} times\")"
   ],
   "metadata": {
    "collapsed": false
   }
  },
  {
   "cell_type": "markdown",
   "source": [
    "The answer is **4**"
   ],
   "metadata": {
    "collapsed": false
   }
  },
  {
   "cell_type": "markdown",
   "source": [
    "# Question\n",
    "*Which one of the following repeats of length 7 has a maximum number of occurrences?*"
   ],
   "metadata": {
    "collapsed": false
   }
  },
  {
   "cell_type": "code",
   "execution_count": 39,
   "outputs": [],
   "source": [
    "all_possible_subseq = sequences.get_all_forward_repeating_overlapping_subsequences_of_length(7)\n",
    "subseq_count_list = sorted(\n",
    "    [\n",
    "        (key, value[\"count\"])\n",
    "        for key, value in all_possible_subseq.items()\n",
    "    ],\n",
    "    key=lambda id_count: id_count[1],\n",
    "    reverse=True\n",
    ")"
   ],
   "metadata": {
    "collapsed": false
   }
  },
  {
   "cell_type": "markdown",
   "source": [
    "Let's examine the top 5 entries"
   ],
   "metadata": {
    "collapsed": false
   }
  },
  {
   "cell_type": "code",
   "execution_count": 42,
   "outputs": [
    {
     "data": {
      "text/plain": "[('CGCGCCG', 63),\n ('CGCCGCG', 62),\n ('GCCGCGC', 61),\n ('GCGCGCG', 59),\n ('GCGCGGC', 58)]"
     },
     "execution_count": 42,
     "metadata": {},
     "output_type": "execute_result"
    }
   ],
   "source": [
    "subseq_count_list[0:5]"
   ],
   "metadata": {
    "collapsed": false
   }
  },
  {
   "cell_type": "markdown",
   "source": [
    "So one maximum number of forward repeating subsequences exist, which is CGCGCCG.\n",
    "\n",
    "The answer is **CGCGCCG**"
   ],
   "metadata": {
    "collapsed": false
   }
  },
  {
   "cell_type": "code",
   "execution_count": null,
   "outputs": [],
   "source": [],
   "metadata": {
    "collapsed": false
   }
  }
 ],
 "metadata": {
  "kernelspec": {
   "display_name": "Python 3",
   "language": "python",
   "name": "python3"
  },
  "language_info": {
   "codemirror_mode": {
    "name": "ipython",
    "version": 2
   },
   "file_extension": ".py",
   "mimetype": "text/x-python",
   "name": "python",
   "nbconvert_exporter": "python",
   "pygments_lexer": "ipython2",
   "version": "2.7.6"
  }
 },
 "nbformat": 4,
 "nbformat_minor": 0
}
